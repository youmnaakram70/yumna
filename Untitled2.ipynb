{
  "nbformat": 4,
  "nbformat_minor": 0,
  "metadata": {
    "colab": {
      "provenance": [],
      "authorship_tag": "ABX9TyMADLxUiUOHJw3Ow69f37qn",
      "include_colab_link": true
    },
    "kernelspec": {
      "name": "python3",
      "display_name": "Python 3"
    },
    "language_info": {
      "name": "python"
    }
  },
  "cells": [
    {
      "cell_type": "markdown",
      "metadata": {
        "id": "view-in-github",
        "colab_type": "text"
      },
      "source": [
        "<a href=\"https://colab.research.google.com/github/youmnaakram70/yumna/blob/main/Untitled2.ipynb\" target=\"_parent\"><img src=\"https://colab.research.google.com/assets/colab-badge.svg\" alt=\"Open In Colab\"/></a>"
      ]
    },
    {
      "cell_type": "code",
      "execution_count": 1,
      "metadata": {
        "colab": {
          "base_uri": "https://localhost:8080/"
        },
        "id": "XwS3JKt-U1CE",
        "outputId": "75b57368-f465-41f1-fc51-2fdae2246ba6"
      },
      "outputs": [
        {
          "output_type": "stream",
          "name": "stdout",
          "text": [
            "Mounted at /content/drive\n"
          ]
        }
      ],
      "source": [
        "#My dataset is available in googledrive; so I am accessing my drive from colab\n",
        "from google.colab import drive\n",
        "drive.mount('/content/drive', force_remount=True)\n",
        "#Once this is executed, you will see your drive appearing on the left hand side"
      ]
    },
    {
      "cell_type": "code",
      "execution_count": null,
      "metadata": {
        "id": "SMPHESYVVnzp"
      },
      "outputs": [],
      "source": [
        "# Define paths to the dataset\n",
        "train_dir = '/content/drive/MyDrive/archive/train'  # Update with your actual path\n",
        "test_dir = '/content/drive/MyDrive/archive/test'    # Update with your actual path"
      ]
    },
    {
      "cell_type": "code",
      "execution_count": null,
      "metadata": {
        "colab": {
          "base_uri": "https://localhost:8080/"
        },
        "id": "wwfZiLtU6Ruq",
        "outputId": "d778f111-3096-4906-b5f6-7cf164a18312"
      },
      "outputs": [
        {
          "output_type": "stream",
          "name": "stdout",
          "text": [
            "492\n",
            "485\n",
            "39\n",
            "40\n"
          ]
        }
      ],
      "source": [
        "import os\n",
        "print(len(os.listdir('/content/drive/MyDrive/archive/train/chihuahua')))\n",
        "print(len(os.listdir('/content/drive/MyDrive/archive/train/muffin')))\n",
        "print(len(os.listdir('/content/drive/MyDrive/archive/test/chihuahua')))\n",
        "print(len(os.listdir('/content/drive/MyDrive/archive/test/muffin')))"
      ]
    },
    {
      "cell_type": "code",
      "execution_count": null,
      "metadata": {
        "colab": {
          "base_uri": "https://localhost:8080/"
        },
        "id": "kf8li3JNUJR1",
        "outputId": "67b4f79b-2e92-4ca6-a9e4-587b7d39bc18"
      },
      "outputs": [
        {
          "output_type": "stream",
          "name": "stdout",
          "text": [
            "Found 782 images belonging to 2 classes.\n",
            "Found 195 images belonging to 2 classes.\n"
          ]
        }
      ],
      "source": [
        "import tensorflow as tf\n",
        "from tensorflow.keras.preprocessing.image import ImageDataGenerator\n",
        "\n",
        "# Create ImageDataGenerator for training set\n",
        "train_datagen = ImageDataGenerator(\n",
        "    rescale=1./255,\n",
        "    validation_split=0.2  # Split 20% of the images for validation\n",
        ")\n",
        "\n",
        "# Load and prepare training data\n",
        "train_data = train_datagen.flow_from_directory(\n",
        "    train_dir,\n",
        "    target_size=(256,256),\n",
        "    batch_size=32,\n",
        "    class_mode='binary',  # 'binary' for binary classification (cats vs. dogs)\n",
        "    subset='training'  # Specify 'training' for the training set\n",
        ")\n",
        "\n",
        "# Create ImageDataGenerator for validation set\n",
        "validation_datagen = ImageDataGenerator(\n",
        "    rescale=1./255,\n",
        "    validation_split=0.2  # Note: Using the same validation split as in the training set\n",
        ")\n",
        "\n",
        "# Load and prepare validation data\n",
        "validation_data = validation_datagen.flow_from_directory(\n",
        "    train_dir,\n",
        "    target_size=(256,256),\n",
        "    batch_size=32,\n",
        "    class_mode='binary',\n",
        "    subset='validation'  # Specify 'validation' for the validation set\n",
        ")"
      ]
    },
    {
      "cell_type": "code",
      "execution_count": null,
      "metadata": {
        "id": "6liLEEzLWNB5"
      },
      "outputs": [],
      "source": [
        "# create CNN model\n",
        "\n",
        "model = Sequential()\n",
        "\n",
        "model.add(Conv2D(32,kernel_size=(3,3),padding='valid',activation='relu',input_shape=(256,256,3)))  # 32 filters\n",
        "model.add(MaxPooling2D(pool_size=(2,2),strides=2,padding='valid'))\n",
        "\n",
        "model.add(Conv2D(64,kernel_size=(3,3),padding='valid',activation='relu'))\n",
        "model.add(MaxPooling2D(pool_size=(2,2),strides=2,padding='valid'))\n",
        "\n",
        "model.add(Conv2D(128,kernel_size=(3,3),padding='valid',activation='relu'))\n",
        "model.add(MaxPooling2D(pool_size=(2,2),strides=2,padding='valid'))\n",
        "\n",
        "model.add(Flatten())\n",
        "\n",
        "model.add(Dense(128,activation='relu')) #feature reduction\n",
        "model.add(Dense(64,activation='relu'))\n",
        "model.add(Dense(1,activation='sigmoid'))  #output layer"
      ]
    },
    {
      "cell_type": "code",
      "execution_count": null,
      "metadata": {
        "id": "SeBjyn0iWXgY"
      },
      "outputs": [],
      "source": [
        "from keras.optimizers import Adam\n",
        "model.compile(optimizer=Adam(learning_rate=0.001),loss='binary_crossentropy',metrics=['accuracy']) #binary_crossentropy - binary classification"
      ]
    },
    {
      "cell_type": "code",
      "execution_count": null,
      "metadata": {
        "colab": {
          "base_uri": "https://localhost:8080/"
        },
        "id": "lGbY2VpIWbTt",
        "outputId": "6df2c442-ec22-417a-f4e8-06b9a00cea25"
      },
      "outputs": [
        {
          "output_type": "stream",
          "name": "stdout",
          "text": [
            "Epoch 1/20\n",
            "25/25 [==============================] - 149s 6s/step - loss: 0.8224 - accuracy: 0.5013 - val_loss: 0.6847 - val_accuracy: 0.5744\n",
            "Epoch 2/20\n",
            "25/25 [==============================] - 88s 4s/step - loss: 0.6662 - accuracy: 0.5703 - val_loss: 0.6622 - val_accuracy: 0.5897\n",
            "Epoch 3/20\n",
            "25/25 [==============================] - 85s 3s/step - loss: 0.6406 - accuracy: 0.6138 - val_loss: 0.6424 - val_accuracy: 0.6667\n",
            "Epoch 4/20\n",
            "25/25 [==============================] - 85s 3s/step - loss: 0.6161 - accuracy: 0.6509 - val_loss: 0.6426 - val_accuracy: 0.6667\n",
            "Epoch 5/20\n",
            "25/25 [==============================] - 85s 3s/step - loss: 0.5836 - accuracy: 0.6726 - val_loss: 0.7180 - val_accuracy: 0.6462\n",
            "Epoch 6/20\n",
            "25/25 [==============================] - 84s 3s/step - loss: 0.5267 - accuracy: 0.7327 - val_loss: 0.7731 - val_accuracy: 0.5385\n",
            "Epoch 7/20\n",
            "25/25 [==============================] - 85s 3s/step - loss: 0.4962 - accuracy: 0.7660 - val_loss: 0.7382 - val_accuracy: 0.6154\n",
            "Epoch 8/20\n",
            "25/25 [==============================] - 84s 3s/step - loss: 0.3183 - accuracy: 0.8593 - val_loss: 0.9765 - val_accuracy: 0.5436\n",
            "Epoch 9/20\n",
            "25/25 [==============================] - 84s 3s/step - loss: 0.2529 - accuracy: 0.8900 - val_loss: 1.0479 - val_accuracy: 0.5949\n",
            "Epoch 10/20\n",
            "25/25 [==============================] - 84s 3s/step - loss: 0.1466 - accuracy: 0.9322 - val_loss: 1.4434 - val_accuracy: 0.6410\n",
            "Epoch 11/20\n",
            "25/25 [==============================] - 85s 3s/step - loss: 0.0659 - accuracy: 0.9757 - val_loss: 1.8825 - val_accuracy: 0.6205\n",
            "Epoch 12/20\n",
            "25/25 [==============================] - 84s 3s/step - loss: 0.0412 - accuracy: 0.9872 - val_loss: 2.0104 - val_accuracy: 0.6103\n",
            "Epoch 13/20\n",
            "25/25 [==============================] - 85s 3s/step - loss: 0.0124 - accuracy: 1.0000 - val_loss: 2.3571 - val_accuracy: 0.6051\n",
            "Epoch 14/20\n",
            "25/25 [==============================] - 85s 3s/step - loss: 0.0091 - accuracy: 0.9974 - val_loss: 2.2802 - val_accuracy: 0.6410\n",
            "Epoch 15/20\n",
            "25/25 [==============================] - 85s 3s/step - loss: 0.0056 - accuracy: 0.9987 - val_loss: 2.6280 - val_accuracy: 0.6410\n",
            "Epoch 16/20\n",
            "25/25 [==============================] - 84s 3s/step - loss: 0.0073 - accuracy: 0.9974 - val_loss: 2.6766 - val_accuracy: 0.5897\n",
            "Epoch 17/20\n",
            "25/25 [==============================] - 84s 3s/step - loss: 0.0058 - accuracy: 1.0000 - val_loss: 2.7069 - val_accuracy: 0.6564\n",
            "Epoch 18/20\n",
            "25/25 [==============================] - 84s 3s/step - loss: 0.0012 - accuracy: 1.0000 - val_loss: 3.0736 - val_accuracy: 0.6513\n",
            "Epoch 19/20\n",
            "25/25 [==============================] - 84s 3s/step - loss: 4.4177e-04 - accuracy: 1.0000 - val_loss: 3.2489 - val_accuracy: 0.6462\n",
            "Epoch 20/20\n",
            "25/25 [==============================] - 85s 3s/step - loss: 2.1020e-04 - accuracy: 1.0000 - val_loss: 3.3528 - val_accuracy: 0.6462\n"
          ]
        }
      ],
      "source": [
        "history = model.fit(train_data, epochs=20, validation_data=validation_data)"
      ]
    },
    {
      "cell_type": "code",
      "execution_count": null,
      "metadata": {
        "id": "g21dMlSOWKas",
        "colab": {
          "base_uri": "https://localhost:8080/",
          "height": 430
        },
        "outputId": "b73d2b50-d5ea-4555-b28d-2d6bd906be57"
      },
      "outputs": [
        {
          "output_type": "display_data",
          "data": {
            "text/plain": [
              "<Figure size 640x480 with 1 Axes>"
            ],
            "image/png": "[encoded data removed]"
          },
          "metadata": {}
        }
      ],
      "source": [
        "import matplotlib.pyplot as plt\n",
        "\n",
        "plt.plot(history.history['accuracy'],color='red',label='train')\n",
        "plt.plot(history.history['val_accuracy'],color='blue',label='validation')\n",
        "plt.legend()\n",
        "plt.show()"
      ]
    },
    {
      "cell_type": "code",
      "execution_count": null,
      "metadata": {
        "id": "FYZ0VJp4esXl",
        "colab": {
          "base_uri": "https://localhost:8080/",
          "height": 433
        },
        "outputId": "ba67711c-6484-4520-c963-72e2bb9469f0"
      },
      "outputs": [
        {
          "output_type": "display_data",
          "data": {
            "text/plain": [
              "<Figure size 640x480 with 1 Axes>"
            ],
            "image/png": "[encoded data removed]"
          },
          "metadata": {}
        }
      ],
      "source": [
        "plt.plot(history.history['loss'],color='red',label='train')\n",
        "plt.plot(history.history['val_loss'],color='blue',label='validation')\n",
        "plt.legend()\n",
        "plt.show()"
      ]
    },
    {
      "cell_type": "code",
      "execution_count": null,
      "metadata": {
        "id": "tQj_RyrZWBEt",
        "colab": {
          "base_uri": "https://localhost:8080/"
        },
        "outputId": "00c7f586-5462-4ef3-870e-02967bc7b50a"
      },
      "outputs": [
        {
          "output_type": "stream",
          "name": "stdout",
          "text": [
            "Found 79 images belonging to 2 classes.\n"
          ]
        }
      ],
      "source": [
        "test_datagen = ImageDataGenerator(rescale=1./255)\n",
        "test_data = test_datagen.flow_from_directory(\n",
        "    test_dir,\n",
        "    target_size=(256,256),\n",
        "    batch_size=32,\n",
        "    class_mode='binary'\n",
        ")"
      ]
    },
    {
      "cell_type": "code",
      "execution_count": null,
      "metadata": {
        "id": "glicW8_5vTqd",
        "colab": {
          "base_uri": "https://localhost:8080/"
        },
        "outputId": "11c6cc4c-695e-4415-dd15-88a2f129e3a2"
      },
      "outputs": [
        {
          "output_type": "stream",
          "name": "stdout",
          "text": [
            "3/3 [==============================] - 14s 6s/step\n"
          ]
        }
      ],
      "source": [
        "#predict the test data\n",
        "predictions = model.predict(test_data)\n"
      ]
    },
    {
      "cell_type": "code",
      "execution_count": null,
      "metadata": {
        "id": "oqqBXpuhyd6x",
        "colab": {
          "base_uri": "https://localhost:8080/"
        },
        "outputId": "a43b231a-4e6d-485d-d910-7ad2a189042e"
      },
      "outputs": [
        {
          "output_type": "stream",
          "name": "stdout",
          "text": [
            "Confusion Matrix:\n",
            "[[17 23]\n",
            " [21 18]]\n",
            "Classification Report:\n",
            "              precision    recall  f1-score   support\n",
            "\n",
            "           0       0.45      0.42      0.44        40\n",
            "           1       0.44      0.46      0.45        39\n",
            "\n",
            "    accuracy                           0.44        79\n",
            "   macro avg       0.44      0.44      0.44        79\n",
            "weighted avg       0.44      0.44      0.44        79\n",
            "\n"
          ]
        }
      ],
      "source": [
        "from sklearn.metrics import confusion_matrix, classification_report\n",
        "\n",
        "# Assuming you have ground truth labels (true_labels) and predicted labels (predictions)\n",
        "true_labels = test_data.classes\n",
        "predicted_labels = (predictions > 0.5).astype(int)  # Adjust the threshold as needed\n",
        "\n",
        "# Calculate confusion matrix\n",
        "cm = confusion_matrix(true_labels, predicted_labels)\n",
        "\n",
        "# Print confusion matrix\n",
        "print(\"Confusion Matrix:\")\n",
        "print(cm)\n",
        "\n",
        "# Print classification report\n",
        "print(\"Classification Report:\")\n",
        "print(classification_report(true_labels, predicted_labels))"
      ]
    },
    {
      "cell_type": "code",
      "source": [
        "# create CNN model\n",
        "\n",
        "model = Sequential()\n",
        "\n",
        "model.add(Conv2D(32,kernel_size=(3,3),padding='valid',activation='relu',input_shape=(256,256,3)))  # 32 filters\n",
        "model.add(BatchNormalization())  # added to reduce overfitting\n",
        "model.add(MaxPooling2D(pool_size=(2,2),strides=2,padding='valid'))\n",
        "\n",
        "model.add(Conv2D(64,kernel_size=(3,3),padding='valid',activation='relu'))\n",
        "model.add(BatchNormalization())  # added to reduce overfitting\n",
        "model.add(MaxPooling2D(pool_size=(2,2),strides=2,padding='valid'))\n",
        "\n",
        "model.add(Conv2D(128,kernel_size=(3,3),padding='valid',activation='relu'))\n",
        "model.add(BatchNormalization())  # added to reduce overfitting\n",
        "model.add(MaxPooling2D(pool_size=(2,2),strides=2,padding='valid'))\n",
        "\n",
        "model.add(Flatten())\n",
        "\n",
        "model.add(Dense(128,activation='relu')) #feature reduction\n",
        "model.add(Dropout(0.1))  # added to reduce overfitting\n",
        "model.add(Dense(64,activation='relu'))\n",
        "model.add(Dropout(0.1))  # added to reduce overfitting\n",
        "model.add(Dense(1,activation='sigmoid'))  #output layer"
      ],
      "metadata": {
        "id": "TonEZUiC_fhE"
      },
      "execution_count": null,
      "outputs": []
    },
    {
      "cell_type": "code",
      "source": [
        "from keras.optimizers import Adam\n",
        "model.compile(optimizer=Adam(learning_rate=0.001),loss='binary_crossentropy',metrics=['accuracy'])"
      ],
      "metadata": {
        "id": "NUYfF3cF6q6s"
      },
      "execution_count": null,
      "outputs": []
    },
    {
      "cell_type": "code",
      "source": [
        "history = model.fit(train_data, epochs=20, validation_data=validation_data)"
      ],
      "metadata": {
        "id": "Ee3-ds2k6156",
        "outputId": "cb352668-39ae-474b-ed9c-1a987f08a079",
        "colab": {
          "base_uri": "https://localhost:8080/"
        }
      },
      "execution_count": null,
      "outputs": [
        {
          "output_type": "stream",
          "name": "stdout",
          "text": [
            "Epoch 1/20\n",
            "25/25 [==============================] - 128s 5s/step - loss: 6.5026 - accuracy: 0.5882 - val_loss: 4.3667 - val_accuracy: 0.4615\n",
            "Epoch 2/20\n",
            "25/25 [==============================] - 126s 5s/step - loss: 3.5680 - accuracy: 0.6253 - val_loss: 5.0532 - val_accuracy: 0.4513\n",
            "Epoch 3/20\n",
            "25/25 [==============================] - 125s 5s/step - loss: 2.6433 - accuracy: 0.6483 - val_loss: 5.7744 - val_accuracy: 0.5231\n",
            "Epoch 4/20\n",
            "25/25 [==============================] - 125s 5s/step - loss: 2.2389 - accuracy: 0.6176 - val_loss: 1.8517 - val_accuracy: 0.5795\n",
            "Epoch 5/20\n",
            "25/25 [==============================] - 124s 5s/step - loss: 1.3888 - accuracy: 0.6675 - val_loss: 2.3423 - val_accuracy: 0.5231\n",
            "Epoch 6/20\n",
            "25/25 [==============================] - 124s 5s/step - loss: 1.2104 - accuracy: 0.6841 - val_loss: 2.5863 - val_accuracy: 0.4769\n",
            "Epoch 7/20\n",
            "25/25 [==============================] - 126s 5s/step - loss: 1.3950 - accuracy: 0.6701 - val_loss: 5.7717 - val_accuracy: 0.4974\n",
            "Epoch 8/20\n",
            "25/25 [==============================] - 124s 5s/step - loss: 0.8158 - accuracy: 0.7442 - val_loss: 6.5082 - val_accuracy: 0.4974\n",
            "Epoch 9/20\n",
            "25/25 [==============================] - 125s 5s/step - loss: 0.7477 - accuracy: 0.7698 - val_loss: 6.7247 - val_accuracy: 0.5077\n",
            "Epoch 10/20\n",
            "25/25 [==============================] - 125s 5s/step - loss: 0.6792 - accuracy: 0.7864 - val_loss: 15.1202 - val_accuracy: 0.4974\n",
            "Epoch 11/20\n",
            "25/25 [==============================] - 125s 5s/step - loss: 0.5979 - accuracy: 0.8043 - val_loss: 7.4171 - val_accuracy: 0.5026\n",
            "Epoch 12/20\n",
            "25/25 [==============================] - 125s 5s/step - loss: 0.5755 - accuracy: 0.8248 - val_loss: 7.8669 - val_accuracy: 0.5179\n",
            "Epoch 13/20\n",
            "25/25 [==============================] - 125s 5s/step - loss: 0.4976 - accuracy: 0.8453 - val_loss: 1.6790 - val_accuracy: 0.5949\n",
            "Epoch 14/20\n",
            "25/25 [==============================] - 125s 5s/step - loss: 0.3627 - accuracy: 0.8696 - val_loss: 1.9182 - val_accuracy: 0.6256\n",
            "Epoch 15/20\n",
            "25/25 [==============================] - 125s 5s/step - loss: 0.2374 - accuracy: 0.9220 - val_loss: 1.7690 - val_accuracy: 0.6154\n",
            "Epoch 16/20\n",
            "25/25 [==============================] - 125s 5s/step - loss: 0.2691 - accuracy: 0.9105 - val_loss: 1.5223 - val_accuracy: 0.5846\n",
            "Epoch 17/20\n",
            "25/25 [==============================] - 125s 5s/step - loss: 0.1715 - accuracy: 0.9361 - val_loss: 2.0049 - val_accuracy: 0.5692\n",
            "Epoch 18/20\n",
            "25/25 [==============================] - 126s 5s/step - loss: 0.1702 - accuracy: 0.9425 - val_loss: 1.9305 - val_accuracy: 0.5949\n",
            "Epoch 19/20\n",
            "25/25 [==============================] - 125s 5s/step - loss: 0.1755 - accuracy: 0.9488 - val_loss: 1.9999 - val_accuracy: 0.6359\n",
            "Epoch 20/20\n",
            "25/25 [==============================] - 125s 5s/step - loss: 0.1715 - accuracy: 0.9540 - val_loss: 1.4446 - val_accuracy: 0.6410\n"
          ]
        }
      ]
    },
    {
      "cell_type": "code",
      "source": [
        "                                                                                                                                                                                                                                                                                                                                                                                                                                                                                                                                                                                                                                                                                                                                                                                                                                                                                                                                                                                                                                                                                                                                                                                                                                                                                                                                                                                                                                                                                                                                                                                          test_datagen = ImageDataGenerator(rescale=1./255)\n",
        "test_data = test_datagen.flow_from_directory(\n",
        "    test_dir,\n",
        "    target_size=(256,256),\n",
        "    batch_size=32,\n",
        "    class_mode='binary'\n",
        ")"
      ],
      "metadata": {
        "id": "t1TgDjL56-xG",
        "outputId": "879353c5-2b92-4180-e12d-35304afbb5fb",
        "colab": {
          "base_uri": "https://localhost:8080/"
        }
      },
      "execution_count": null,
      "outputs": [
        {
          "output_type": "stream",
          "name": "stdout",
          "text": [
            "Found 79 images belonging to 2 classes.\n"
          ]
        }
      ]
    },
    {
      "cell_type": "code",
      "source": [
        "predictions = model.predict(test_data)"
      ],
      "metadata": {
        "id": "UbcwpddpOLoi",
        "outputId": "f8dfd001-c772-4c0c-97f5-9701b7fdc572",
        "colab": {
          "base_uri": "https://localhost:8080/"
        }
      },
      "execution_count": null,
      "outputs": [
        {
          "output_type": "stream",
          "name": "stdout",
          "text": [
            "3/3 [==============================] - 3s 993ms/step\n"
          ]
        }
      ]
    },
    {
      "cell_type": "code",
      "source": [
        "from sklearn.metrics import confusion_matrix, classification_report\n",
        "\n",
        "# Assuming you have ground truth labels (true_labels) and predicted labels (predictions)\n",
        "true_labels = test_data.classes\n",
        "predicted_labels = (predictions > 0.5).astype(int)  # Adjust the threshold as needed\n",
        "\n",
        "# Calculate confusion matrix\n",
        "cm = confusion_matrix(true_labels, predicted_labels)\n",
        "\n",
        "# Print confusion matrix\n",
        "print(\"Confusion Matrix:\")\n",
        "print(cm)\n",
        "\n",
        "# Print classification report\n",
        "print(\"Classification Report after applying techniques to handle overfitting:\")\n",
        "print(classification_report(true_labels, predicted_labels))"
      ],
      "metadata": {
        "id": "RuSx_sRm6_zz",
        "outputId": "5ee12323-ad94-4a78-adcc-33d2c7247456",
        "colab": {
          "base_uri": "https://localhost:8080/"
        }
      },
      "execution_count": null,
      "outputs": [
        {
          "output_type": "stream",
          "name": "stdout",
          "text": [
            "Confusion Matrix:\n",
            "[[24 16]\n",
            " [29 10]]\n",
            "Classification Report after applying techniques to handle overfitting:\n",
            "              precision    recall  f1-score   support\n",
            "\n",
            "           0       0.45      0.60      0.52        40\n",
            "           1       0.38      0.26      0.31        39\n",
            "\n",
            "    accuracy                           0.43        79\n",
            "   macro avg       0.42      0.43      0.41        79\n",
            "weighted avg       0.42      0.43      0.41        79\n",
            "\n"
          ]
        }
      ]
    },
    {
      "cell_type": "code",
      "source": [
        "import tensorflow as tf\n",
        "from tensorflow import keras\n",
        "from keras import Sequential\n",
        "from keras.layers import Dense,Conv2D,MaxPooling2D,Flatten\n",
        "\n",
        "resnet_model = Sequential()    #ResNet50 is a pre-trained model\n",
        "pretrained_model = tf.keras.applications.ResNet50(include_top = False, #because i have my own image of a diff dimension\n",
        "                                                input_shape = (256,256,3),\n",
        "                                                pooling = 'max', classes = 2,\n",
        "                                                weights = 'imagenet')\n",
        "for layer in pretrained_model.layers:\n",
        "    layer.trainable = False  #all layers in the Resnet50 is not trainable; keep those weights; I am going to add my own i/p and other layers\n",
        "\n",
        "resnet_model.add(pretrained_model)\n",
        "resnet_model.add(Flatten())\n",
        "resnet_model.add(Dense(512, activation = 'relu'))\n",
        "resnet_model.add(Dense(1, activation = 'sigmoid'))"
      ],
      "metadata": {
        "id": "6wSg4m5TQ4QP"
      },
      "execution_count": null,
      "outputs": []
    },
    {
      "cell_type": "code",
      "source": [
        "from keras.optimizers import Adam\n",
        "resnet_model.compile(optimizer=Adam(learning_rate=0.001),loss='binary_crossentropy',metrics=['accuracy'])"
      ],
      "metadata": {
        "id": "-chKK0QiSS_V"
      },
      "execution_count": null,
      "outputs": []
    },
    {
      "cell_type": "code",
      "source": [
        "history = resnet_model.fit(train_data, epochs=20, validation_data=validation_data)"
      ],
      "metadata": {
        "id": "mlLccBTMSYjp",
        "outputId": "5364a45e-e1e7-4747-ea46-5d255352a58e",
        "colab": {
          "base_uri": "https://localhost:8080/"
        }
      },
      "execution_count": null,
      "outputs": [
        {
          "output_type": "stream",
          "name": "stdout",
          "text": [
            "Epoch 1/20\n"
          ]
        },
        {
          "output_type": "stream",
          "name": "stderr",
          "text": [
            "/usr/local/lib/python3.10/dist-packages/keras/src/trainers/data_adapters/py_dataset_adapter.py:122: UserWarning: Your `PyDataset` class should call `super().__init__(**kwargs)` in its constructor. `**kwargs` can include `workers`, `use_multiprocessing`, `max_queue_size`. Do not pass these arguments to `fit()`, as they will be ignored.\n",
            "  self._warn_if_super_not_called()\n"
          ]
        },
        {
          "output_type": "stream",
          "name": "stdout",
          "text": [
            "\u001b[1m25/25\u001b[0m \u001b[32m━━━━━━━━━━━━━━━━━━━━\u001b[0m\u001b[37m\u001b[0m \u001b[1m313s\u001b[0m 11s/step - accuracy: 0.5175 - loss: 2.3673 - val_accuracy: 0.6051 - val_loss: 0.6385\n",
            "Epoch 2/20\n",
            "\u001b[1m25/25\u001b[0m \u001b[32m━━━━━━━━━━━━━━━━━━━━\u001b[0m\u001b[37m\u001b[0m \u001b[1m308s\u001b[0m 12s/step - accuracy: 0.5403 - loss: 0.8250 - val_accuracy: 0.5231 - val_loss: 0.8028\n",
            "Epoch 3/20\n",
            "\u001b[1m25/25\u001b[0m \u001b[32m━━━━━━━━━━━━━━━━━━━━\u001b[0m\u001b[37m\u001b[0m \u001b[1m290s\u001b[0m 12s/step - accuracy: 0.5705 - loss: 0.7600 - val_accuracy: 0.6308 - val_loss: 0.6387\n",
            "Epoch 4/20\n",
            "\u001b[1m25/25\u001b[0m \u001b[32m━━━━━━━━━━━━━━━━━━━━\u001b[0m\u001b[37m\u001b[0m \u001b[1m293s\u001b[0m 10s/step - accuracy: 0.6203 - loss: 0.6328 - val_accuracy: 0.6615 - val_loss: 0.6119\n",
            "Epoch 5/20\n",
            "\u001b[1m25/25\u001b[0m \u001b[32m━━━━━━━━━━━━━━━━━━━━\u001b[0m\u001b[37m\u001b[0m \u001b[1m258s\u001b[0m 10s/step - accuracy: 0.6643 - loss: 0.5905 - val_accuracy: 0.5128 - val_loss: 0.8859\n",
            "Epoch 6/20\n",
            "\u001b[1m25/25\u001b[0m \u001b[32m━━━━━━━━━━━━━━━━━━━━\u001b[0m\u001b[37m\u001b[0m \u001b[1m266s\u001b[0m 11s/step - accuracy: 0.5801 - loss: 0.7572 - val_accuracy: 0.6103 - val_loss: 0.6985\n",
            "Epoch 7/20\n",
            "\u001b[1m25/25\u001b[0m \u001b[32m━━━━━━━━━━━━━━━━━━━━\u001b[0m\u001b[37m\u001b[0m \u001b[1m314s\u001b[0m 10s/step - accuracy: 0.6706 - loss: 0.5930 - val_accuracy: 0.6769 - val_loss: 0.6370\n",
            "Epoch 8/20\n",
            "\u001b[1m25/25\u001b[0m \u001b[32m━━━━━━━━━━━━━━━━━━━━\u001b[0m\u001b[37m\u001b[0m \u001b[1m267s\u001b[0m 11s/step - accuracy: 0.6777 - loss: 0.5829 - val_accuracy: 0.5487 - val_loss: 0.7771\n",
            "Epoch 9/20\n",
            "\u001b[1m25/25\u001b[0m \u001b[32m━━━━━━━━━━━━━━━━━━━━\u001b[0m\u001b[37m\u001b[0m \u001b[1m258s\u001b[0m 10s/step - accuracy: 0.6513 - loss: 0.6462 - val_accuracy: 0.6718 - val_loss: 0.6150\n",
            "Epoch 10/20\n",
            "\u001b[1m25/25\u001b[0m \u001b[32m━━━━━━━━━━━━━━━━━━━━\u001b[0m\u001b[37m\u001b[0m \u001b[1m264s\u001b[0m 11s/step - accuracy: 0.6855 - loss: 0.5809 - val_accuracy: 0.6308 - val_loss: 0.6795\n",
            "Epoch 11/20\n",
            "\u001b[1m25/25\u001b[0m \u001b[32m━━━━━━━━━━━━━━━━━━━━\u001b[0m\u001b[37m\u001b[0m \u001b[1m316s\u001b[0m 10s/step - accuracy: 0.7040 - loss: 0.5554 - val_accuracy: 0.5692 - val_loss: 0.7174\n",
            "Epoch 12/20\n",
            "\u001b[1m25/25\u001b[0m \u001b[32m━━━━━━━━━━━━━━━━━━━━\u001b[0m\u001b[37m\u001b[0m \u001b[1m298s\u001b[0m 12s/step - accuracy: 0.7013 - loss: 0.5681 - val_accuracy: 0.6564 - val_loss: 0.5981\n",
            "Epoch 13/20\n",
            "\u001b[1m25/25\u001b[0m \u001b[32m━━━━━━━━━━━━━━━━━━━━\u001b[0m\u001b[37m\u001b[0m \u001b[1m318s\u001b[0m 12s/step - accuracy: 0.6995 - loss: 0.5813 - val_accuracy: 0.6564 - val_loss: 0.6212\n",
            "Epoch 14/20\n",
            "\u001b[1m25/25\u001b[0m \u001b[32m━━━━━━━━━━━━━━━━━━━━\u001b[0m\u001b[37m\u001b[0m \u001b[1m298s\u001b[0m 12s/step - accuracy: 0.7398 - loss: 0.5110 - val_accuracy: 0.6154 - val_loss: 0.6862\n",
            "Epoch 15/20\n",
            "\u001b[1m25/25\u001b[0m \u001b[32m━━━━━━━━━━━━━━━━━━━━\u001b[0m\u001b[37m\u001b[0m \u001b[1m259s\u001b[0m 10s/step - accuracy: 0.7115 - loss: 0.5611 - val_accuracy: 0.6564 - val_loss: 0.6417\n",
            "Epoch 16/20\n",
            "\u001b[1m25/25\u001b[0m \u001b[32m━━━━━━━━━━━━━━━━━━━━\u001b[0m\u001b[37m\u001b[0m \u001b[1m292s\u001b[0m 12s/step - accuracy: 0.7036 - loss: 0.5928 - val_accuracy: 0.5846 - val_loss: 0.7414\n",
            "Epoch 17/20\n",
            "\u001b[1m25/25\u001b[0m \u001b[32m━━━━━━━━━━━━━━━━━━━━\u001b[0m\u001b[37m\u001b[0m \u001b[1m264s\u001b[0m 11s/step - accuracy: 0.6699 - loss: 0.5795 - val_accuracy: 0.6974 - val_loss: 0.6236\n",
            "Epoch 18/20\n",
            "\u001b[1m25/25\u001b[0m \u001b[32m━━━━━━━━━━━━━━━━━━━━\u001b[0m\u001b[37m\u001b[0m \u001b[1m320s\u001b[0m 10s/step - accuracy: 0.7068 - loss: 0.5656 - val_accuracy: 0.6923 - val_loss: 0.6188\n",
            "Epoch 19/20\n",
            "\u001b[1m25/25\u001b[0m \u001b[32m━━━━━━━━━━━━━━━━━━━━\u001b[0m\u001b[37m\u001b[0m \u001b[1m296s\u001b[0m 12s/step - accuracy: 0.7606 - loss: 0.5110 - val_accuracy: 0.6615 - val_loss: 0.6007\n",
            "Epoch 20/20\n",
            "\u001b[1m25/25\u001b[0m \u001b[32m━━━━━━━━━━━━━━━━━━━━\u001b[0m\u001b[37m\u001b[0m \u001b[1m285s\u001b[0m 10s/step - accuracy: 0.7637 - loss: 0.4721 - val_accuracy: 0.5795 - val_loss: 0.8153\n"
          ]
        }
      ]
    },
    {
      "cell_type": "code",
      "source": [
        "predictions = resnet_model.predict(test_data)"
      ],
      "metadata": {
        "id": "vGQnG2mCVD7R",
        "outputId": "ff04b1ac-a720-44a1-c74f-0cc63bd11aeb",
        "colab": {
          "base_uri": "https://localhost:8080/"
        }
      },
      "execution_count": null,
      "outputs": [
        {
          "output_type": "stream",
          "name": "stdout",
          "text": [
            "\u001b[1m3/3\u001b[0m \u001b[32m━━━━━━━━━━━━━━━━━━━━\u001b[0m\u001b[37m\u001b[0m \u001b[1m27s\u001b[0m 7s/step\n"
          ]
        }
      ]
    },
    {
      "cell_type": "code",
      "source": [
        "from sklearn.metrics import confusion_matrix, classification_report\n",
        "\n",
        "# Assuming you have ground truth labels (true_labels) and predicted labels (predictions)\n",
        "true_labels = test_data.classes\n",
        "predicted_labels = (predictions > 0.5).astype(int)  # Adjust the threshold as needed\n",
        "\n",
        "# Calculate confusion matrix\n",
        "cm = confusion_matrix(true_labels, predicted_labels)\n",
        "\n",
        "# Print confusion matrix\n",
        "print(\"Confusion Matrix:\")\n",
        "print(cm)\n",
        "\n",
        "# Print classification report\n",
        "print(\"Classification Report after applying techniques to handle overfitting:\")\n",
        "print(classification_report(true_labels, predicted_labels))"
      ],
      "metadata": {
        "id": "SGJyo_ERXM0u",
        "outputId": "c4bcdbe3-6d16-482a-a345-106ad04cacdd",
        "colab": {
          "base_uri": "https://localhost:8080/"
        }
      },
      "execution_count": null,
      "outputs": [
        {
          "output_type": "stream",
          "name": "stdout",
          "text": [
            "Confusion Matrix:\n",
            "[[35  5]\n",
            " [37  2]]\n",
            "Classification Report after applying techniques to handle overfitting:\n",
            "              precision    recall  f1-score   support\n",
            "\n",
            "           0       0.49      0.88      0.62        40\n",
            "           1       0.29      0.05      0.09        39\n",
            "\n",
            "    accuracy                           0.47        79\n",
            "   macro avg       0.39      0.46      0.36        79\n",
            "weighted avg       0.39      0.47      0.36        79\n",
            "\n"
          ]
        }
      ]
    }
  ]
}